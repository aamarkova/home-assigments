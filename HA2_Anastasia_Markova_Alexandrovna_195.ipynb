{
 "cells": [
  {
   "cell_type": "code",
   "execution_count": 7,
   "metadata": {},
   "outputs": [
    {
     "name": "stdout",
     "output_type": "stream",
     "text": [
      "{'Italy': 60.3, 'Russia': 144.4, 'Austria': 8.6, 'Australia': 25.4, 'Cyprus': 0.86, 'USA': 328, 'Burkina Faso': 20.3, 'Spain': 47, 'Greece': 10.7}\n",
      "{'Italy': 60.3, 'Russia': 144.4, 'Austria': 8.6, 'Australia': 25.4, 'Cyprus': 0.86, 'USA': 328, 'Burkina Faso': 20.3, 'Spain': 47, 'Greece': 10.7, 'Germany': 83, 'France': 67, 'China': 140.81}\n",
      "{'Italy': 60.3, 'Russia': 144.4, 'Austria': 8.6, 'Australia': 25.4, 'Cyprus': 0.86, 'USA': 328, 'Burkina Faso': 20.3, 'Spain': 47, 'Greece': 10.7, 'Germany': 83, 'France': 67, 'China': 1408.1}\n"
     ]
    }
   ],
   "source": [
    "# Task 1\n",
    "countries = ['Italy', 'Russia', 'Austria', 'Australia', 'Cyprus', \n",
    "             'USA', 'Burkina Faso', 'Spain', 'Greece']\n",
    "\n",
    "population_mln = [60.3, 144.4, 8.6, 25.4, 0.86, 328, 20.3, 47, 10.7]\n",
    "\n",
    "d = dict(zip(countries, population_mln))\n",
    "print(d)\n",
    "\n",
    "d[\"Germany\"] = 83\n",
    "d[\"France\"] = 67\n",
    "d[\"China\"] = 140.81\n",
    "print(d)\n",
    "\n",
    "d[\"China\"] = 1408.1\n",
    "print(d)"
   ]
  },
  {
   "cell_type": "code",
   "execution_count": 8,
   "metadata": {},
   "outputs": [
    {
     "name": "stdout",
     "output_type": "stream",
     "text": [
      "Second largest element is: 120\n"
     ]
    }
   ],
   "source": [
    "# Task 2\n",
    "\n",
    "array = [59, 7, 9, 87, 1, 0, 2, 20, 62, 120, 121, 98]\n",
    "\n",
    "array.sort()\n",
    "print(\"Second largest element is:\", array[-2])"
   ]
  },
  {
   "cell_type": "code",
   "execution_count": 13,
   "metadata": {},
   "outputs": [
    {
     "name": "stdout",
     "output_type": "stream",
     "text": [
      "1 way.\n",
      "The string is a palindrome.\n",
      "2 way.\n",
      "The string is a palindrome.\n"
     ]
    }
   ],
   "source": [
    "# Task 3\n",
    "\n",
    "candidate = 'aAaacbbcaaAa'\n",
    "\n",
    "print(\"1 way.\")\n",
    "if candidate == candidate[::-1]:\n",
    "   print(\"The string is a palindrome.\")\n",
    "else:\n",
    "   print(\"The string is not a palindrome.\")\n",
    "\n",
    "print(\"2 way.\")\n",
    "isPal = True\n",
    "for i in range(0, int(len(candidate)/2)): \n",
    "        if candidate[i] != candidate[len(candidate)-i-1]:\n",
    "            isPal = False\n",
    "            break\n",
    "if isPal:\n",
    "   print(\"The string is a palindrome.\")\n",
    "else:\n",
    "   print(\"The string is not a palindrome.\")"
   ]
  },
  {
   "cell_type": "code",
   "execution_count": 27,
   "metadata": {},
   "outputs": [
    {
     "name": "stdout",
     "output_type": "stream",
     "text": [
      "PART  ONE. The  State.\n",
      "WHAT IS POLITICAL DEVELOPMENT?\n",
      "Political development and its three components: the state, rule of law,  and accountability; why all societies are subject to political decay;  the plan for the book; why it is good to have a balanced political system. Political development is change over time in political institutions. This is different from shifts in politics or policies: prime ministers,  presidents, and legislators may come and go, laws may be modified,  but it is the underlying rules by which societies organize themselves  that define a political order.\n",
      "In the first volume of this book, I argued that there were three basic  categories of institutions that constituted a political order: the state,  rule of law, and mechanisms of accountability. The state is  a hierarchical, centralized organization that holds a monopoly on legitimate force over a defined territory. In addition to characteristics like complexity  and adaptability, states can be more or less impersonal: early states were  indistinguishable from the ruler’s household and were described as “patrimonial” because they favored and worked through the ruler’s family and friends. Modern, more highly developed states, by contrast, make a distinction between the private interest of the rulers and the public interest of the whole community. They strive to treat citizens on a more impersonal basis,  applying laws, recruiting officials, and undertaking policies without favoritism.\n",
      "The rule of law has many possible definitions, including simple law and order, property rightsand contract enforcement, or the modern Western understanding of human rights, which includes equal rights for women and racial and ethnic minorities.1 The definition of the rule of law I am using in this book is not tied to a specific substantive understanding of law. Rather, I define it as a set of rules of behavior, reflecting a broad consensus within the society,  that is binding on even the most powerful political actors in the society, whether kings,  presidents, or prime ministers.\n"
     ]
    }
   ],
   "source": [
    "# Task 4\n",
    "import re\n",
    "\n",
    "paragraph_3 = [\"The rule of law has many possible definitions, including simple law and order, property rights\"\n",
    "        \"and contract enforcement, or the modern Western understanding of human rights, which includes\",\n",
    "        \"equal rights for women and racial and ethnic minorities.1 <page3> The definition of the rule of law\",\n",
    "        \"I am using in this book is not tied to a specific substantive understanding of law. Rather, I\",\n",
    "        \"define it as a set of rules of behavior, reflecting a broad consensus within the society,\",\n",
    "        \" that is binding on even the most powerful political actors in the society, whether kings,\",\n",
    "        \" presidents, or prime ministers. \"]\n",
    "\n",
    "chapter_title = [\"PART\", \" ONE. #h1\", \"The \", \"State.#h2 \"]\n",
    "\n",
    "paragraph_2 = [\"In the first volume of this book, I argued that there were three basic \",\n",
    "        \"categories of institutions that constituted a political order: the state, \",\n",
    "        \"rule of law, and mechanisms of accountability. The state is \",\n",
    "        \"a hierarchical, centralized organization that holds a monopoly on legitimate\",\n",
    "        \"force over a defined territory. <page2> In addition to characteristics like complexity \",\n",
    "        \"and adaptability, states can be more or less impersonal: early states were \",\n",
    "        \"indistinguishable from the ruler’s household and were described as “patrimonial” because\",\n",
    "        \"they favored and worked through the ruler’s family and friends. Modern, more highly developed\",\n",
    "        \"states, by contrast, make a distinction between the private interest of the rulers and the public\",\n",
    "        \"interest of the whole community. They strive to treat citizens on a more impersonal basis,\",\n",
    "        \" applying laws, recruiting officials, and undertaking policies without favoritism. \"]\n",
    "\n",
    "subtitle = [\"#h3 WHAT IS POLITICAL DEVELOPMENT?\"]\n",
    "\n",
    "paragraph_1 = [\"Political development and its three components: the state, rule of law,\",\n",
    "        \" and accountability; why all societies are subject to political decay;\",\n",
    "        \" the plan for the book; why <page1> it is good to have a balanced political system.\",\n",
    "        \"Political development is change over time in political institutions.\",\n",
    "        \"This is different from shifts in politics or policies: prime ministers,\",\n",
    "        \" presidents, and legislators may come and go, laws may be modified, \",\n",
    "        \"but it is the underlying rules by which societies organize themselves\",\n",
    "        \" that define a political order. \"]\n",
    "\n",
    "PATTERN = \"[ ]*(#h1|#h2|#h3|<page1>|<page2>|<page3>)[ ]*\"\n",
    "\n",
    "ct = \" \".join(chapter_title)\n",
    "ct = re.sub(PATTERN, \" \", ct).strip()\n",
    "\n",
    "st = \" \".join(subtitle)\n",
    "st = re.sub(PATTERN, \" \", st).strip()\n",
    "\n",
    "p1 = \" \".join(paragraph_1)\n",
    "p1 = re.sub(PATTERN, \" \", p1).strip()\n",
    "\n",
    "p2 = \" \".join(paragraph_2)\n",
    "p2 = re.sub(PATTERN, \" \", p2).strip()\n",
    "\n",
    "p3 = \" \".join(paragraph_3)\n",
    "p3 = re.sub(PATTERN, \" \", p3).strip()\n",
    "\n",
    "res = \"\\n\".join([ct, st, p1, p2, p3])\n",
    "print(res)"
   ]
  },
  {
   "cell_type": "code",
   "execution_count": 30,
   "metadata": {},
   "outputs": [
    {
     "name": "stdout",
     "output_type": "stream",
     "text": [
      "[1, 2, 'Three', 4, 'Five', 'Three', 7, 8, 'Three', 'Five', 11, 'Three', 13, 14, 'ThreeFive', 16, 17, 'Three', 19, 'Five', 'Three', 22, 23, 'Three', 'Five', 26, 'Three', 28, 29, 'ThreeFive', 31, 32, 'Three', 34, 'Five', 'Three', 37, 38, 'Three', 'Five', 41, 'Three', 43, 44, 'ThreeFive', 46, 47, 'Three', 49, 'Five', 'Three', 52, 53, 'Three', 'Five', 56, 'Three', 58, 59, 'ThreeFive', 61, 62, 'Three', 64, 'Five', 'Three', 67, 68, 'Three', 'Five', 71, 'Three', 73, 74, 'ThreeFive', 76, 77, 'Three', 79, 'Five', 'Three', 82, 83, 'Three', 'Five', 86, 'Three', 88, 89, 'ThreeFive', 91, 92, 'Three', 94, 'Five', 'Three', 97, 98, 'Three', 'Five', 101, 'Three', 103, 104, 'ThreeFive', 106, 107, 'Three', 109, 'Five', 'Three', 112, 113, 'Three', 'Five', 116, 'Three', 118, 119, 'ThreeFive', 121, 122, 'Three', 124, 'Five', 'Three', 127, 128, 'Three', 'Five', 131, 'Three', 133, 134, 'ThreeFive', 136, 137, 'Three', 139, 'Five', 'Three', 142, 143, 'Three', 'Five', 146, 'Three', 148, 149, 'ThreeFive', 151, 152, 'Three', 154, 'Five', 'Three', 157, 158, 'Three', 'Five', 161, 'Three', 163, 164, 'ThreeFive', 166, 167, 'Three', 169, 'Five', 'Three', 172, 173, 'Three', 'Five', 176, 'Three', 178, 179, 'ThreeFive', 181, 182, 'Three', 184, 'Five', 'Three', 187, 188, 'Three', 'Five', 191, 'Three', 193, 194, 'ThreeFive', 196, 197, 'Three', 199, 'Five', 'Three', 202, 203, 'Three', 'Five', 206, 'Three', 208, 209, 'ThreeFive', 211, 212, 'Three', 214, 'Five', 'Three', 217, 218, 'Three', 'Five', 221, 'Three', 223, 224, 'ThreeFive', 226, 227, 'Three', 229, 'Five', 'Three', 232, 233, 'Three', 'Five', 236, 'Three', 238, 239, 'ThreeFive', 241, 242, 'Three', 244, 'Five', 'Three', 247, 248, 'Three', 'Five', 251, 'Three', 253, 254, 'ThreeFive', 256, 257, 'Three', 259, 'Five', 'Three', 262, 263, 'Three', 'Five', 266, 'Three', 268, 269, 'ThreeFive', 271, 272, 'Three', 274, 'Five', 'Three', 277, 278, 'Three', 'Five', 281, 'Three', 283, 284, 'ThreeFive', 286, 287, 'Three', 289, 'Five', 'Three', 292, 293, 'Three', 'Five', 296, 'Three', 298, 299, 'ThreeFive', 301, 302, 'Three', 304, 'Five', 'Three', 307, 308, 'Three', 'Five', 311, 'Three', 313, 314, 'ThreeFive', 316, 317, 'Three', 319, 'Five', 'Three', 322, 323, 'Three', 'Five', 326, 'Three', 328, 329, 'ThreeFive', 331, 332, 'Three', 334, 'Five', 'Three', 337, 338, 'Three', 'Five', 341, 'Three', 343, 344, 'ThreeFive', 346, 347, 'Three', 349, 'Five', 'Three', 352, 353, 'Three', 'Five', 356, 'Three', 358, 359, 'ThreeFive', 361, 362, 'Three', 364, 'Five', 'Three', 367, 368, 'Three', 'Five', 371, 'Three', 373, 374, 'ThreeFive', 376, 377, 'Three', 379, 'Five', 'Three', 382, 383, 'Three', 'Five', 386, 'Three', 388, 389, 'ThreeFive', 391, 392, 'Three', 394, 'Five', 'Three', 397, 398, 'Three', 'Five', 401, 'Three', 403, 404, 'ThreeFive', 406, 407, 'Three', 409, 'Five', 'Three', 412, 413, 'Three', 'Five', 416, 'Three', 418, 419, 'ThreeFive', 421, 422, 'Three', 424, 'Five', 'Three', 427, 428, 'Three', 'Five', 431, 'Three', 433, 434, 'ThreeFive', 436, 437, 'Three', 439, 'Five', 'Three', 442, 443, 'Three', 'Five', 446, 'Three', 448, 449, 'ThreeFive', 451, 452, 'Three', 454, 'Five', 'Three', 457, 458, 'Three', 'Five', 461, 'Three', 463, 464, 'ThreeFive', 466, 467, 'Three', 469, 'Five', 'Three', 472, 473, 'Three', 'Five', 476, 'Three', 478, 479, 'ThreeFive', 481, 482, 'Three', 484, 'Five', 'Three', 487, 488, 'Three', 'Five', 491, 'Three', 493, 494, 'ThreeFive', 496, 497, 'Three', 499, 'Five', 'Three', 502, 503, 'Three', 'Five', 506, 'Three', 508, 509, 'ThreeFive', 511, 512, 'Three', 514, 'Five', 'Three', 517, 518, 'Three', 'Five', 521, 'Three', 523, 524, 'ThreeFive', 526, 527, 'Three', 529, 'Five', 'Three', 532, 533, 'Three', 'Five', 536, 'Three', 538, 539, 'ThreeFive', 541, 542, 'Three', 544, 'Five', 'Three', 547, 548, 'Three', 'Five', 551, 'Three', 553, 554, 'ThreeFive', 556, 557, 'Three', 559, 'Five', 'Three', 562, 563, 'Three', 'Five', 566, 'Three', 568, 569, 'ThreeFive', 571, 572, 'Three', 574, 'Five', 'Three', 577, 578, 'Three', 'Five', 581, 'Three', 583, 584, 'ThreeFive', 586, 587, 'Three', 589, 'Five', 'Three', 592, 593, 'Three', 'Five', 596, 'Three', 598, 599, 'ThreeFive', 601, 602, 'Three', 604, 'Five', 'Three', 607, 608, 'Three', 'Five', 611, 'Three', 613, 614, 'ThreeFive', 616, 617, 'Three', 619, 'Five', 'Three', 622, 623, 'Three', 'Five', 626, 'Three', 628, 629, 'ThreeFive', 631, 632, 'Three', 634, 'Five', 'Three', 637, 638, 'Three', 'Five', 641, 'Three', 643, 644, 'ThreeFive', 646, 647, 'Three', 649, 'Five', 'Three', 652, 653, 'Three', 'Five', 656, 'Three', 658, 659, 'ThreeFive', 661, 662, 'Three', 664, 'Five', 'Three', 667, 668, 'Three', 'Five', 671, 'Three', 673, 674, 'ThreeFive', 676, 677, 'Three', 679, 'Five', 'Three', 682, 683, 'Three', 'Five', 686, 'Three', 688, 689, 'ThreeFive', 691, 692, 'Three', 694, 'Five', 'Three', 697, 698, 'Three', 'Five', 701, 'Three', 703, 704, 'ThreeFive', 706, 707, 'Three', 709, 'Five', 'Three', 712, 713, 'Three', 'Five', 716, 'Three', 718, 719, 'ThreeFive', 721, 722, 'Three', 724, 'Five', 'Three', 727, 728, 'Three', 'Five', 731, 'Three', 733, 734, 'ThreeFive', 736, 737, 'Three', 739, 'Five', 'Three', 742, 743, 'Three', 'Five', 746, 'Three', 748, 749, 'ThreeFive', 751, 752, 'Three', 754, 'Five', 'Three', 757, 758, 'Three', 'Five', 761, 'Three', 763, 764, 'ThreeFive', 766, 767, 'Three', 769, 'Five', 'Three', 772, 773, 'Three', 'Five', 776, 'Three', 778, 779, 'ThreeFive', 781, 782, 'Three', 784, 'Five', 'Three', 787, 788, 'Three', 'Five', 791, 'Three', 793, 794, 'ThreeFive', 796, 797, 'Three', 799, 'Five', 'Three', 802, 803, 'Three', 'Five', 806, 'Three', 808, 809, 'ThreeFive', 811, 812, 'Three', 814, 'Five', 'Three', 817, 818, 'Three', 'Five', 821, 'Three', 823, 824, 'ThreeFive', 826, 827, 'Three', 829, 'Five', 'Three', 832, 833, 'Three', 'Five', 836, 'Three', 838, 839, 'ThreeFive', 841, 842, 'Three', 844, 'Five', 'Three', 847, 848, 'Three', 'Five', 851, 'Three', 853, 854, 'ThreeFive', 856, 857, 'Three', 859, 'Five', 'Three', 862, 863, 'Three', 'Five', 866, 'Three', 868, 869, 'ThreeFive', 871, 872, 'Three', 874, 'Five', 'Three', 877, 878, 'Three', 'Five', 881, 'Three', 883, 884, 'ThreeFive', 886, 887, 'Three', 889, 'Five', 'Three', 892, 893, 'Three', 'Five', 896, 'Three', 898, 899, 'ThreeFive', 901, 902, 'Three', 904, 'Five', 'Three', 907, 908, 'Three', 'Five', 911, 'Three', 913, 914, 'ThreeFive', 916, 917, 'Three', 919, 'Five', 'Three', 922, 923, 'Three', 'Five', 926, 'Three', 928, 929, 'ThreeFive', 931, 932, 'Three', 934, 'Five', 'Three', 937, 938, 'Three', 'Five', 941, 'Three', 943, 944, 'ThreeFive', 946, 947, 'Three', 949, 'Five', 'Three', 952, 953, 'Three', 'Five', 956, 'Three', 958, 959, 'ThreeFive', 961, 962, 'Three', 964, 'Five', 'Three', 967, 968, 'Three', 'Five', 971, 'Three', 973, 974, 'ThreeFive', 976, 977, 'Three', 979, 'Five', 'Three', 982, 983, 'Three', 'Five', 986, 'Three', 988, 989, 'ThreeFive', 991, 992, 'Three', 994, 'Five', 'Three', 997, 998, 'Three', 'Five']\n"
     ]
    }
   ],
   "source": [
    "# Task 5\n",
    "\n",
    "res = []\n",
    "for i in range(1,1001):\n",
    "    if i % 3 == 0 and i % 5 == 0:\n",
    "        res.append(\"ThreeFive\")\n",
    "    elif i % 3 == 0:\n",
    "        res.append(\"Three\")\n",
    "    elif i % 5 == 0:\n",
    "        res.append(\"Five\")\n",
    "    else:\n",
    "        res.append(i)\n",
    "\n",
    "print(res)"
   ]
  },
  {
   "cell_type": "code",
   "execution_count": null,
   "metadata": {},
   "outputs": [],
   "source": []
  }
 ],
 "metadata": {
  "kernelspec": {
   "display_name": "Python 3",
   "language": "python",
   "name": "python3"
  },
  "language_info": {
   "codemirror_mode": {
    "name": "ipython",
    "version": 3
   },
   "file_extension": ".py",
   "mimetype": "text/x-python",
   "name": "python",
   "nbconvert_exporter": "python",
   "pygments_lexer": "ipython3",
   "version": "3.8.5"
  }
 },
 "nbformat": 4,
 "nbformat_minor": 2
}
